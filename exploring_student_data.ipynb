{
 "cells": [
  {
   "cell_type": "markdown",
   "source": [
    "# Exploring Student Data\n",
    "Imagine that you work for a school district and have collected some data on local students and their parents. You’ve been tasked with answering some important questions:\n",
    "\n",
    "- How are students performing in their math classes?\n",
    "- What do students’ parents do for work?\n",
    "- How often are students absent from school?\n",
    "\n",
    "In this project, you’ll explore and summarize some student data in order to answer these questions.\n",
    "<br>\n",
    "#### Data citation:\n",
    "\n",
    "Dua, D. and Graff, C. (2019). UCI Machine Learning Repository __[\\[http://archive.ics.uci.edu/ml\\]](http://archive.ics.uci.edu/ml)__ Irvine, CA: University of California, School of Information and Computer Science. \n",
    "__[http://archive.ics.uci.edu/ml/datasets/Student+Performance](http://archive.ics.uci.edu/ml/datasets/Student+Performance)__\n",
    "\n",
    "Paulo Cortez, University of Minho, Guimarães, Portugal, __[http://www3.dsi.uminho.pt/pcortez](http://www3.dsi.uminho.pt/pcortez)__"
   ],
   "metadata": {
    "collapsed": false
   },
   "id": "8755c27339433573"
  },
  {
   "cell_type": "code",
   "execution_count": 1,
   "outputs": [],
   "source": [
    "import pandas as pd\n",
    "import numpy as np\n",
    "import matplotlib.pyplot as plt\n",
    "import seaborn as sns\n",
    "from scipy import stats"
   ],
   "metadata": {
    "collapsed": false,
    "ExecuteTime": {
     "end_time": "2024-01-12T19:43:37.359360Z",
     "start_time": "2024-01-12T19:43:37.355345Z"
    }
   },
   "id": "6cfc025cdc076299"
  },
  {
   "cell_type": "code",
   "execution_count": 2,
   "outputs": [],
   "source": [
    "# Import data. Load csv file\n",
    "students = pd.read_csv('students.csv')\n"
   ],
   "metadata": {
    "collapsed": false,
    "ExecuteTime": {
     "end_time": "2024-01-12T19:43:37.372845Z",
     "start_time": "2024-01-12T19:43:37.368851Z"
    }
   },
   "id": "5833d0c3bd82b5b6"
  },
  {
   "cell_type": "markdown",
   "source": [
    "## Initial exploration\n",
    "The provided dataframe (saved as `students`) includes the following variables/features:\n",
    "\n",
    "- `address`: the location of the student’s home (`'U'` for urban and `'R'` for rural)\n",
    "- `absences`: the number of times the student was absent during the school year\n",
    "- `Mjob`: the student’s mother’s job industry\n",
    "- `Fjob`: the student’s father’s job industry\n",
    "- `math_grade`: the student’s final grade in math, ranging from 0 to 20\n"
   ],
   "metadata": {
    "collapsed": false
   },
   "id": "fd6394fa4808b85c"
  },
  {
   "cell_type": "code",
   "execution_count": 3,
   "outputs": [
    {
     "data": {
      "text/plain": "  address  absences     Mjob      Fjob  math_grade\n0       U         6  at_home   teacher           6\n1       U         4  at_home     other           6\n2       U        10  at_home     other          10\n3       U         2   health  services          15\n4       U         4    other     other          10",
      "text/html": "<div>\n<style scoped>\n    .dataframe tbody tr th:only-of-type {\n        vertical-align: middle;\n    }\n\n    .dataframe tbody tr th {\n        vertical-align: top;\n    }\n\n    .dataframe thead th {\n        text-align: right;\n    }\n</style>\n<table border=\"1\" class=\"dataframe\">\n  <thead>\n    <tr style=\"text-align: right;\">\n      <th></th>\n      <th>address</th>\n      <th>absences</th>\n      <th>Mjob</th>\n      <th>Fjob</th>\n      <th>math_grade</th>\n    </tr>\n  </thead>\n  <tbody>\n    <tr>\n      <th>0</th>\n      <td>U</td>\n      <td>6</td>\n      <td>at_home</td>\n      <td>teacher</td>\n      <td>6</td>\n    </tr>\n    <tr>\n      <th>1</th>\n      <td>U</td>\n      <td>4</td>\n      <td>at_home</td>\n      <td>other</td>\n      <td>6</td>\n    </tr>\n    <tr>\n      <th>2</th>\n      <td>U</td>\n      <td>10</td>\n      <td>at_home</td>\n      <td>other</td>\n      <td>10</td>\n    </tr>\n    <tr>\n      <th>3</th>\n      <td>U</td>\n      <td>2</td>\n      <td>health</td>\n      <td>services</td>\n      <td>15</td>\n    </tr>\n    <tr>\n      <th>4</th>\n      <td>U</td>\n      <td>4</td>\n      <td>other</td>\n      <td>other</td>\n      <td>10</td>\n    </tr>\n  </tbody>\n</table>\n</div>"
     },
     "execution_count": 3,
     "metadata": {},
     "output_type": "execute_result"
    }
   ],
   "source": [
    "# inspect first 5 rows of data frame\n",
    "students.head()"
   ],
   "metadata": {
    "collapsed": false,
    "ExecuteTime": {
     "end_time": "2024-01-12T19:43:37.389990Z",
     "start_time": "2024-01-12T19:43:37.379787Z"
    }
   },
   "id": "6782ed717f4d8f64"
  },
  {
   "cell_type": "code",
   "execution_count": 4,
   "outputs": [
    {
     "name": "stdout",
     "output_type": "stream",
     "text": [
      "<class 'pandas.core.frame.DataFrame'>\n",
      "RangeIndex: 395 entries, 0 to 394\n",
      "Data columns (total 5 columns):\n",
      " #   Column      Non-Null Count  Dtype \n",
      "---  ------      --------------  ----- \n",
      " 0   address     395 non-null    object\n",
      " 1   absences    395 non-null    int64 \n",
      " 2   Mjob        395 non-null    object\n",
      " 3   Fjob        395 non-null    object\n",
      " 4   math_grade  395 non-null    int64 \n",
      "dtypes: int64(2), object(3)\n",
      "memory usage: 15.6+ KB\n"
     ]
    }
   ],
   "source": [
    "# inspect variables datatypes\n",
    "students.info()"
   ],
   "metadata": {
    "collapsed": false,
    "ExecuteTime": {
     "end_time": "2024-01-12T19:43:37.404898Z",
     "start_time": "2024-01-12T19:43:37.397338Z"
    }
   },
   "id": "bdc6c690bff884c5"
  },
  {
   "cell_type": "code",
   "execution_count": 5,
   "outputs": [
    {
     "data": {
      "text/plain": "       address    absences   Mjob   Fjob  math_grade\ncount      395  395.000000    395    395  395.000000\nunique       2         NaN      5      5         NaN\ntop          U         NaN  other  other         NaN\nfreq       307         NaN    141    217         NaN\nmean       NaN    5.708861    NaN    NaN   10.415190\nstd        NaN    8.003096    NaN    NaN    4.581443\nmin        NaN    0.000000    NaN    NaN    0.000000\n25%        NaN    0.000000    NaN    NaN    8.000000\n50%        NaN    4.000000    NaN    NaN   11.000000\n75%        NaN    8.000000    NaN    NaN   14.000000\nmax        NaN   75.000000    NaN    NaN   20.000000",
      "text/html": "<div>\n<style scoped>\n    .dataframe tbody tr th:only-of-type {\n        vertical-align: middle;\n    }\n\n    .dataframe tbody tr th {\n        vertical-align: top;\n    }\n\n    .dataframe thead th {\n        text-align: right;\n    }\n</style>\n<table border=\"1\" class=\"dataframe\">\n  <thead>\n    <tr style=\"text-align: right;\">\n      <th></th>\n      <th>address</th>\n      <th>absences</th>\n      <th>Mjob</th>\n      <th>Fjob</th>\n      <th>math_grade</th>\n    </tr>\n  </thead>\n  <tbody>\n    <tr>\n      <th>count</th>\n      <td>395</td>\n      <td>395.000000</td>\n      <td>395</td>\n      <td>395</td>\n      <td>395.000000</td>\n    </tr>\n    <tr>\n      <th>unique</th>\n      <td>2</td>\n      <td>NaN</td>\n      <td>5</td>\n      <td>5</td>\n      <td>NaN</td>\n    </tr>\n    <tr>\n      <th>top</th>\n      <td>U</td>\n      <td>NaN</td>\n      <td>other</td>\n      <td>other</td>\n      <td>NaN</td>\n    </tr>\n    <tr>\n      <th>freq</th>\n      <td>307</td>\n      <td>NaN</td>\n      <td>141</td>\n      <td>217</td>\n      <td>NaN</td>\n    </tr>\n    <tr>\n      <th>mean</th>\n      <td>NaN</td>\n      <td>5.708861</td>\n      <td>NaN</td>\n      <td>NaN</td>\n      <td>10.415190</td>\n    </tr>\n    <tr>\n      <th>std</th>\n      <td>NaN</td>\n      <td>8.003096</td>\n      <td>NaN</td>\n      <td>NaN</td>\n      <td>4.581443</td>\n    </tr>\n    <tr>\n      <th>min</th>\n      <td>NaN</td>\n      <td>0.000000</td>\n      <td>NaN</td>\n      <td>NaN</td>\n      <td>0.000000</td>\n    </tr>\n    <tr>\n      <th>25%</th>\n      <td>NaN</td>\n      <td>0.000000</td>\n      <td>NaN</td>\n      <td>NaN</td>\n      <td>8.000000</td>\n    </tr>\n    <tr>\n      <th>50%</th>\n      <td>NaN</td>\n      <td>4.000000</td>\n      <td>NaN</td>\n      <td>NaN</td>\n      <td>11.000000</td>\n    </tr>\n    <tr>\n      <th>75%</th>\n      <td>NaN</td>\n      <td>8.000000</td>\n      <td>NaN</td>\n      <td>NaN</td>\n      <td>14.000000</td>\n    </tr>\n    <tr>\n      <th>max</th>\n      <td>NaN</td>\n      <td>75.000000</td>\n      <td>NaN</td>\n      <td>NaN</td>\n      <td>20.000000</td>\n    </tr>\n  </tbody>\n</table>\n</div>"
     },
     "execution_count": 5,
     "metadata": {},
     "output_type": "execute_result"
    }
   ],
   "source": [
    "# Summary Statistics for all five features\n",
    "students.describe(include='all')"
   ],
   "metadata": {
    "collapsed": false,
    "ExecuteTime": {
     "end_time": "2024-01-12T19:43:37.485501Z",
     "start_time": "2024-01-12T19:43:37.401941Z"
    }
   },
   "id": "a19d8447ae075946"
  },
  {
   "cell_type": "markdown",
   "source": [
    "Q:  Do more students live in urban or rural locations?\n",
    "A: More students live in urban locations"
   ],
   "metadata": {
    "collapsed": false
   },
   "id": "65ad4af664e5fe80"
  },
  {
   "cell_type": "markdown",
   "source": [
    "## Summarize a typical student grade\n"
   ],
   "metadata": {
    "collapsed": false
   },
   "id": "dda2ec7fb414b803"
  },
  {
   "cell_type": "code",
   "execution_count": 6,
   "outputs": [
    {
     "name": "stdout",
     "output_type": "stream",
     "text": [
      "mean math grade: 10.415189873417722\n"
     ]
    }
   ],
   "source": [
    "# calculate the mean value of math_grade\n",
    "print('mean math grade:', students.math_grade.mean())"
   ],
   "metadata": {
    "collapsed": false,
    "ExecuteTime": {
     "end_time": "2024-01-12T19:43:37.486351Z",
     "start_time": "2024-01-12T19:43:37.431760Z"
    }
   },
   "id": "67db24880eaa7368"
  },
  {
   "cell_type": "code",
   "execution_count": 7,
   "outputs": [
    {
     "name": "stdout",
     "output_type": "stream",
     "text": [
      "median math grade: 11.0\n"
     ]
    }
   ],
   "source": [
    "# calculate the median value of math grade\n",
    "print('median math grade:', students.math_grade.median())"
   ],
   "metadata": {
    "collapsed": false,
    "ExecuteTime": {
     "end_time": "2024-01-12T19:43:37.505649Z",
     "start_time": "2024-01-12T19:43:37.442910Z"
    }
   },
   "id": "3333fdbdd040f64e"
  },
  {
   "cell_type": "code",
   "execution_count": 8,
   "outputs": [
    {
     "name": "stdout",
     "output_type": "stream",
     "text": [
      "mode of math grade: 10\n"
     ]
    }
   ],
   "source": [
    "# calculate the mode of math grade\n",
    "print('mode of math grade:', students.math_grade.mode()[0])"
   ],
   "metadata": {
    "collapsed": false,
    "ExecuteTime": {
     "end_time": "2024-01-12T19:43:37.506060Z",
     "start_time": "2024-01-12T19:43:37.454740Z"
    }
   },
   "id": "7f7b7d93a8fb625c"
  },
  {
   "cell_type": "code",
   "execution_count": 9,
   "outputs": [
    {
     "name": "stdout",
     "output_type": "stream",
     "text": [
      "range of math grades: 20\n"
     ]
    }
   ],
   "source": [
    "# calculate the range of math grade\n",
    "math_range = students.math_grade.max() - students.math_grade.min()\n",
    "print('range of math grades:', math_range)"
   ],
   "metadata": {
    "collapsed": false,
    "ExecuteTime": {
     "end_time": "2024-01-12T19:43:37.506244Z",
     "start_time": "2024-01-12T19:43:37.460702Z"
    }
   },
   "id": "3429a45dd2cd7cb7"
  },
  {
   "cell_type": "code",
   "execution_count": 10,
   "outputs": [
    {
     "name": "stdout",
     "output_type": "stream",
     "text": [
      "SD of math grades: 4.5814426109978434\n"
     ]
    }
   ],
   "source": [
    "# calculate the standard deviation of math grade\n",
    "print('SD of math grades:', students.math_grade.std())"
   ],
   "metadata": {
    "collapsed": false,
    "ExecuteTime": {
     "end_time": "2024-01-12T19:43:37.506692Z",
     "start_time": "2024-01-12T19:43:37.465918Z"
    }
   },
   "id": "549dee08f292d061"
  },
  {
   "cell_type": "markdown",
   "source": [
    "The standard deviation is about 4.6, while the average grade is about 10.4. This means that about two thirds of students are earning a grade between 5.8 (calculated as 10.4 - 4.6) and 15 (calculated as 10.4 + 4.6)."
   ],
   "metadata": {
    "collapsed": false
   },
   "id": "988f9f9a81305a50"
  },
  {
   "cell_type": "code",
   "execution_count": 11,
   "outputs": [
    {
     "name": "stdout",
     "output_type": "stream",
     "text": [
      "MAD of math grades: 3.4289889440794745\n"
     ]
    }
   ],
   "source": [
    "# calculate the mean absolute deviation of math grade\n",
    "# print('MAD of math grades:', students.math_grade.mad())\n",
    "math_mad = abs(students.math_grade - students.math_grade.mean()).mean()\n",
    "print('MAD of math grades:', math_mad)"
   ],
   "metadata": {
    "collapsed": false,
    "ExecuteTime": {
     "end_time": "2024-01-12T19:43:37.506931Z",
     "start_time": "2024-01-12T19:43:37.472024Z"
    }
   },
   "id": "4afecd00e05393e3"
  },
  {
   "cell_type": "markdown",
   "source": [
    "## Visualize the distribution of student grades"
   ],
   "metadata": {
    "collapsed": false
   },
   "id": "4f72938604bdd9c1"
  },
  {
   "cell_type": "code",
   "execution_count": 13,
   "outputs": [
    {
     "name": "stderr",
     "output_type": "stream",
     "text": [
      "/Users/matth/anaconda3/lib/python3.11/site-packages/seaborn/_oldcore.py:1119: FutureWarning: use_inf_as_na option is deprecated and will be removed in a future version. Convert inf values to NaN before operating instead.\n",
      "  with pd.option_context('mode.use_inf_as_na', True):\n"
     ]
    },
    {
     "data": {
      "text/plain": "<Figure size 640x480 with 1 Axes>",
      "image/png": "[encoded data removed]"
     },
     "metadata": {},
     "output_type": "display_data"
    },
    {
     "data": {
      "text/plain": "<Figure size 640x480 with 0 Axes>"
     },
     "metadata": {},
     "output_type": "display_data"
    }
   ],
   "source": [
    "# visualize the distribution on histogram\n",
    "sns.histplot(x='math_grade', data=students)\n",
    "plt.show()\n",
    "plt.clf()"
   ],
   "metadata": {
    "collapsed": false,
    "ExecuteTime": {
     "end_time": "2024-01-12T19:48:39.233978Z",
     "start_time": "2024-01-12T19:48:39.043363Z"
    }
   },
   "id": "dae126a651ca39a9"
  },
  {
   "cell_type": "code",
   "execution_count": 14,
   "outputs": [
    {
     "data": {
      "text/plain": "<Figure size 640x480 with 1 Axes>",
      "image/png": "[encoded data removed]"
     },
     "metadata": {},
     "output_type": "display_data"
    },
    {
     "data": {
      "text/plain": "<Figure size 640x480 with 0 Axes>"
     },
     "metadata": {},
     "output_type": "display_data"
    }
   ],
   "source": [
    "# visualize the distribution by box plot\n",
    "sns.boxplot(students, x='math_grade')\n",
    "plt.show()\n",
    "plt.clf()"
   ],
   "metadata": {
    "collapsed": false,
    "ExecuteTime": {
     "end_time": "2024-01-12T19:50:19.084677Z",
     "start_time": "2024-01-12T19:50:18.946328Z"
    }
   },
   "id": "730aefc55cf33e85"
  },
  {
   "cell_type": "markdown",
   "source": [
    "## Summarize mothers' jobs"
   ],
   "metadata": {
    "collapsed": false
   },
   "id": "6db44795a0c39ecc"
  },
  {
   "cell_type": "code",
   "execution_count": 19,
   "outputs": [
    {
     "data": {
      "text/plain": "Mjob\nother       141\nservices    103\nat_home      59\nteacher      58\nhealth       34\nName: count, dtype: int64"
     },
     "execution_count": 19,
     "metadata": {},
     "output_type": "execute_result"
    }
   ],
   "source": [
    "# Calculate number of students with mothers in each job category\n",
    "students.Mjob.value_counts()"
   ],
   "metadata": {
    "collapsed": false,
    "ExecuteTime": {
     "end_time": "2024-01-12T19:57:52.279243Z",
     "start_time": "2024-01-12T19:57:52.259364Z"
    }
   },
   "id": "9cde4a986e9bd0e4"
  },
  {
   "cell_type": "code",
   "execution_count": 22,
   "outputs": [
    {
     "data": {
      "text/plain": "Mjob\nother       0.356962\nservices    0.260759\nat_home     0.149367\nteacher     0.146835\nhealth      0.086076\nName: proportion, dtype: float64"
     },
     "execution_count": 22,
     "metadata": {},
     "output_type": "execute_result"
    }
   ],
   "source": [
    "# Calculate proportion of students with mothers in each job category\n",
    "students.Mjob.value_counts(normalize=True)"
   ],
   "metadata": {
    "collapsed": false,
    "ExecuteTime": {
     "end_time": "2024-01-12T19:58:19.817318Z",
     "start_time": "2024-01-12T19:58:19.800427Z"
    }
   },
   "id": "ca4d9c31cc8f10f7"
  },
  {
   "cell_type": "code",
   "execution_count": 23,
   "outputs": [
    {
     "data": {
      "text/plain": "<Figure size 640x480 with 1 Axes>",
      "image/png": "[encoded data removed]"
     },
     "metadata": {},
     "output_type": "display_data"
    },
    {
     "data": {
      "text/plain": "<Figure size 640x480 with 0 Axes>"
     },
     "metadata": {},
     "output_type": "display_data"
    }
   ],
   "source": [
    "# Summarize the Mjob column by printing the number of students who have mothers with each job type\n",
    "sns.countplot(data=students, x='Mjob')\n",
    "plt.show()\n",
    "plt.clf()"
   ],
   "metadata": {
    "collapsed": false,
    "ExecuteTime": {
     "end_time": "2024-01-12T19:58:34.544868Z",
     "start_time": "2024-01-12T19:58:34.395391Z"
    }
   },
   "id": "1486e7f896983c5f"
  },
  {
   "cell_type": "code",
   "execution_count": 25,
   "outputs": [
    {
     "data": {
      "text/plain": "<Figure size 640x480 with 1 Axes>",
      "image/png": "[encoded data removed]"
     },
     "metadata": {},
     "output_type": "display_data"
    }
   ],
   "source": [
    "students.Mjob.value_counts().plot.pie()\n",
    "plt.show()\n",
    "plt.close()"
   ],
   "metadata": {
    "collapsed": false,
    "ExecuteTime": {
     "end_time": "2024-01-12T19:59:09.360171Z",
     "start_time": "2024-01-12T19:59:09.301803Z"
    }
   },
   "id": "c41d1dab8570acf2"
  },
  {
   "cell_type": "code",
   "execution_count": null,
   "outputs": [],
   "source": [],
   "metadata": {
    "collapsed": false
   },
   "id": "dda6710d437a3083"
  }
 ],
 "metadata": {
  "kernelspec": {
   "display_name": "Python 3",
   "language": "python",
   "name": "python3"
  },
  "language_info": {
   "codemirror_mode": {
    "name": "ipython",
    "version": 2
   },
   "file_extension": ".py",
   "mimetype": "text/x-python",
   "name": "python",
   "nbconvert_exporter": "python",
   "pygments_lexer": "ipython2",
   "version": "2.7.6"
  }
 },
 "nbformat": 4,
 "nbformat_minor": 5
}
